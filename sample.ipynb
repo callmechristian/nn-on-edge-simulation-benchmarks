{
 "cells": [
  {
   "cell_type": "code",
   "execution_count": 1,
   "metadata": {},
   "outputs": [],
   "source": [
    "from utils.SystemMonitor import SystemMonitor\n",
    "from utils.Table import Table\n",
    "import time\n",
    "import os\n",
    "\n",
    "monitor = SystemMonitor()"
   ]
  },
  {
   "cell_type": "markdown",
   "metadata": {},
   "source": [
    "Might want to drop notebook for sampling because of jupyter and kernel overhead"
   ]
  },
  {
   "cell_type": "code",
   "execution_count": 2,
   "metadata": {},
   "outputs": [
    {
     "ename": "FileExistsError",
     "evalue": "",
     "output_type": "error",
     "traceback": [
      "\u001b[0;31m---------------------------------------------------------------------------\u001b[0m",
      "\u001b[0;31mFileExistsError\u001b[0m                           Traceback (most recent call last)",
      "\u001b[1;32m/home/ubuntu/Desktop/RMSW/nn-on-edge-simulation-benchmarks/sample.ipynb Cell 3\u001b[0m line \u001b[0;36m7\n\u001b[1;32m      <a href='vscode-notebook-cell:/home/ubuntu/Desktop/RMSW/nn-on-edge-simulation-benchmarks/sample.ipynb#W4sZmlsZQ%3D%3D?line=4'>5</a>\u001b[0m     Table\u001b[39m.\u001b[39mcreate_empty_df(file_name, [\u001b[39m\"\u001b[39m\u001b[39mTimeStamp\u001b[39m\u001b[39m\"\u001b[39m, \u001b[39m\"\u001b[39m\u001b[39mName\u001b[39m\u001b[39m\"\u001b[39m, \u001b[39m\"\u001b[39m\u001b[39mCPU_CORES\u001b[39m\u001b[39m\"\u001b[39m, \u001b[39m\"\u001b[39m\u001b[39mCPU_CORES_LOG\u001b[39m\u001b[39m\"\u001b[39m, \u001b[39m\"\u001b[39m\u001b[39mCPU_FREQ\u001b[39m\u001b[39m\"\u001b[39m, \u001b[39m\"\u001b[39m\u001b[39mRAM_TOTAL_GB\u001b[39m\u001b[39m\"\u001b[39m, \u001b[39m\"\u001b[39m\u001b[39mRAM_AV_GB\u001b[39m\u001b[39m\"\u001b[39m, \u001b[39m\"\u001b[39m\u001b[39mRAM_USED_GB\u001b[39m\u001b[39m\"\u001b[39m, \u001b[39m\"\u001b[39m\u001b[39mSWAP_TOTAL_GB\u001b[39m\u001b[39m\"\u001b[39m, \u001b[39m\"\u001b[39m\u001b[39mSWAP_USED_GB\u001b[39m\u001b[39m\"\u001b[39m, \u001b[39m\"\u001b[39m\u001b[39mCPU\u001b[39m\u001b[39m%\u001b[39m\u001b[39m\"\u001b[39m, \u001b[39m\"\u001b[39m\u001b[39mRAM\u001b[39m\u001b[39m%\u001b[39m\u001b[39m\"\u001b[39m, \u001b[39m\"\u001b[39m\u001b[39mRC\u001b[39m\u001b[39m\"\u001b[39m, \u001b[39m\"\u001b[39m\u001b[39mWC\u001b[39m\u001b[39m\"\u001b[39m, \u001b[39m\"\u001b[39m\u001b[39mRB\u001b[39m\u001b[39m\"\u001b[39m, \u001b[39m\"\u001b[39m\u001b[39mWB\u001b[39m\u001b[39m\"\u001b[39m, \u001b[39m\"\u001b[39m\u001b[39mdt\u001b[39m\u001b[39m\"\u001b[39m, \u001b[39m\"\u001b[39m\u001b[39mPRED\u001b[39m\u001b[39m\"\u001b[39m])\n\u001b[1;32m      <a href='vscode-notebook-cell:/home/ubuntu/Desktop/RMSW/nn-on-edge-simulation-benchmarks/sample.ipynb#W4sZmlsZQ%3D%3D?line=5'>6</a>\u001b[0m \u001b[39melse\u001b[39;00m:\n\u001b[0;32m----> <a href='vscode-notebook-cell:/home/ubuntu/Desktop/RMSW/nn-on-edge-simulation-benchmarks/sample.ipynb#W4sZmlsZQ%3D%3D?line=6'>7</a>\u001b[0m     \u001b[39mraise\u001b[39;00m(\u001b[39mFileExistsError\u001b[39;00m)\n",
      "\u001b[0;31mFileExistsError\u001b[0m: "
     ]
    }
   ],
   "source": [
    "# ONLY RUN ONCE PER SAMPLE GROUP\n",
    "file_name = \"Samples1.csv\"\n",
    "\n",
    "if not os.path.exists(\"dataframes/\" + file_name):\n",
    "    Table.create_empty_df(file_name, [\"TimeStamp\", \"Name\", \"CPU_CORES\", \"CPU_CORES_LOG\", \"CPU_FREQ\", \"RAM_TOTAL_GB\", \"RAM_AV_GB\", \"RAM_USED_GB\", \"SWAP_TOTAL_GB\", \"SWAP_USED_GB\", \"CPU%\", \"RAM%\", \"RC\", \"WC\", \"RB\", \"WB\", \"dt\", \"PRED\"])\n",
    "else:\n",
    "    raise(FileExistsError)"
   ]
  },
  {
   "cell_type": "markdown",
   "metadata": {},
   "source": [
    "# **ResNet50**"
   ]
  },
  {
   "cell_type": "code",
   "execution_count": 3,
   "metadata": {},
   "outputs": [
    {
     "name": "stderr",
     "output_type": "stream",
     "text": [
      "2023-10-27 08:22:58.937438: I tensorflow/tsl/cuda/cudart_stub.cc:28] Could not find cuda drivers on your machine, GPU will not be used.\n",
      "2023-10-27 08:22:58.994638: I tensorflow/tsl/cuda/cudart_stub.cc:28] Could not find cuda drivers on your machine, GPU will not be used.\n",
      "2023-10-27 08:22:58.996579: I tensorflow/core/platform/cpu_feature_guard.cc:182] This TensorFlow binary is optimized to use available CPU instructions in performance-critical operations.\n",
      "To enable the following instructions: AVX2, in other operations, rebuild TensorFlow with the appropriate compiler flags.\n",
      "2023-10-27 08:23:00.040043: W tensorflow/compiler/tf2tensorrt/utils/py_utils.cc:38] TF-TRT Warning: Could not find TensorRT\n"
     ]
    },
    {
     "name": "stdout",
     "output_type": "stream",
     "text": [
      "Monitoring started with an interval of 0.1 seconds.\n",
      "1/1 [==============================] - 1s 1s/step\n",
      "Monitoring stopped.\n"
     ]
    },
    {
     "ename": "ValueError",
     "evalue": "Shape of passed values is (18, 1), indices imply (18, 18)",
     "output_type": "error",
     "traceback": [
      "\u001b[0;31m---------------------------------------------------------------------------\u001b[0m",
      "\u001b[0;31mValueError\u001b[0m                                Traceback (most recent call last)",
      "\u001b[1;32m/home/ubuntu/Desktop/RMSW/nn-on-edge-simulation-benchmarks/sample.ipynb Cell 5\u001b[0m line \u001b[0;36m2\n\u001b[1;32m     <a href='vscode-notebook-cell:/home/ubuntu/Desktop/RMSW/nn-on-edge-simulation-benchmarks/sample.ipynb#W3sZmlsZQ%3D%3D?line=19'>20</a>\u001b[0m appendable\u001b[39m.\u001b[39mappend(\u001b[39mstr\u001b[39m(ss_resnet50\u001b[39m.\u001b[39mcorrect_result()))\n\u001b[1;32m     <a href='vscode-notebook-cell:/home/ubuntu/Desktop/RMSW/nn-on-edge-simulation-benchmarks/sample.ipynb#W3sZmlsZQ%3D%3D?line=21'>22</a>\u001b[0m \u001b[39m# if we change the model we can add model info\u001b[39;00m\n\u001b[0;32m---> <a href='vscode-notebook-cell:/home/ubuntu/Desktop/RMSW/nn-on-edge-simulation-benchmarks/sample.ipynb#W3sZmlsZQ%3D%3D?line=22'>23</a>\u001b[0m Table\u001b[39m.\u001b[39;49mappend_to_df(\u001b[39m\"\u001b[39;49m\u001b[39mSamples1.csv\u001b[39;49m\u001b[39m\"\u001b[39;49m, appendable)\n\u001b[1;32m     <a href='vscode-notebook-cell:/home/ubuntu/Desktop/RMSW/nn-on-edge-simulation-benchmarks/sample.ipynb#W3sZmlsZQ%3D%3D?line=24'>25</a>\u001b[0m \u001b[39m# sanity check\u001b[39;00m\n\u001b[1;32m     <a href='vscode-notebook-cell:/home/ubuntu/Desktop/RMSW/nn-on-edge-simulation-benchmarks/sample.ipynb#W3sZmlsZQ%3D%3D?line=25'>26</a>\u001b[0m \u001b[39mprint\u001b[39m(\u001b[39m\"\u001b[39m\u001b[39mAppended to samples file: \u001b[39m\u001b[39m\\n\u001b[39;00m\u001b[39m\"\u001b[39m)\n",
      "File \u001b[0;32m~/Desktop/RMSW/nn-on-edge-simulation-benchmarks/utils/Table.py:20\u001b[0m, in \u001b[0;36mTable.append_to_df\u001b[0;34m(filename, data)\u001b[0m\n\u001b[1;32m     17\u001b[0m     \u001b[39mreturn\u001b[39;00m\n\u001b[1;32m     19\u001b[0m \u001b[39m# Create a new DataFrame from the data and append it to the existing DataFrame\u001b[39;00m\n\u001b[0;32m---> 20\u001b[0m new_data_df \u001b[39m=\u001b[39m pd\u001b[39m.\u001b[39;49mDataFrame(data, columns\u001b[39m=\u001b[39;49mexisting_df\u001b[39m.\u001b[39;49mcolumns)\n\u001b[1;32m     21\u001b[0m updated_df \u001b[39m=\u001b[39m pd\u001b[39m.\u001b[39mconcat([existing_df, new_data_df], ignore_index\u001b[39m=\u001b[39m\u001b[39mTrue\u001b[39;00m)\n\u001b[1;32m     23\u001b[0m \u001b[39m# Save the updated DataFrame back to the file\u001b[39;00m\n",
      "File \u001b[0;32m/usr/local/lib/python3.8/dist-packages/pandas/core/frame.py:798\u001b[0m, in \u001b[0;36mDataFrame.__init__\u001b[0;34m(self, data, index, columns, dtype, copy)\u001b[0m\n\u001b[1;32m    790\u001b[0m         mgr \u001b[39m=\u001b[39m arrays_to_mgr(\n\u001b[1;32m    791\u001b[0m             arrays,\n\u001b[1;32m    792\u001b[0m             columns,\n\u001b[0;32m   (...)\u001b[0m\n\u001b[1;32m    795\u001b[0m             typ\u001b[39m=\u001b[39mmanager,\n\u001b[1;32m    796\u001b[0m         )\n\u001b[1;32m    797\u001b[0m     \u001b[39melse\u001b[39;00m:\n\u001b[0;32m--> 798\u001b[0m         mgr \u001b[39m=\u001b[39m ndarray_to_mgr(\n\u001b[1;32m    799\u001b[0m             data,\n\u001b[1;32m    800\u001b[0m             index,\n\u001b[1;32m    801\u001b[0m             columns,\n\u001b[1;32m    802\u001b[0m             dtype\u001b[39m=\u001b[39;49mdtype,\n\u001b[1;32m    803\u001b[0m             copy\u001b[39m=\u001b[39;49mcopy,\n\u001b[1;32m    804\u001b[0m             typ\u001b[39m=\u001b[39;49mmanager,\n\u001b[1;32m    805\u001b[0m         )\n\u001b[1;32m    806\u001b[0m \u001b[39melse\u001b[39;00m:\n\u001b[1;32m    807\u001b[0m     mgr \u001b[39m=\u001b[39m dict_to_mgr(\n\u001b[1;32m    808\u001b[0m         {},\n\u001b[1;32m    809\u001b[0m         index,\n\u001b[0;32m   (...)\u001b[0m\n\u001b[1;32m    812\u001b[0m         typ\u001b[39m=\u001b[39mmanager,\n\u001b[1;32m    813\u001b[0m     )\n",
      "File \u001b[0;32m/usr/local/lib/python3.8/dist-packages/pandas/core/internals/construction.py:337\u001b[0m, in \u001b[0;36mndarray_to_mgr\u001b[0;34m(values, index, columns, dtype, copy, typ)\u001b[0m\n\u001b[1;32m    332\u001b[0m \u001b[39m# _prep_ndarraylike ensures that values.ndim == 2 at this point\u001b[39;00m\n\u001b[1;32m    333\u001b[0m index, columns \u001b[39m=\u001b[39m _get_axes(\n\u001b[1;32m    334\u001b[0m     values\u001b[39m.\u001b[39mshape[\u001b[39m0\u001b[39m], values\u001b[39m.\u001b[39mshape[\u001b[39m1\u001b[39m], index\u001b[39m=\u001b[39mindex, columns\u001b[39m=\u001b[39mcolumns\n\u001b[1;32m    335\u001b[0m )\n\u001b[0;32m--> 337\u001b[0m _check_values_indices_shape_match(values, index, columns)\n\u001b[1;32m    339\u001b[0m \u001b[39mif\u001b[39;00m typ \u001b[39m==\u001b[39m \u001b[39m\"\u001b[39m\u001b[39marray\u001b[39m\u001b[39m\"\u001b[39m:\n\u001b[1;32m    340\u001b[0m     \u001b[39mif\u001b[39;00m \u001b[39missubclass\u001b[39m(values\u001b[39m.\u001b[39mdtype\u001b[39m.\u001b[39mtype, \u001b[39mstr\u001b[39m):\n",
      "File \u001b[0;32m/usr/local/lib/python3.8/dist-packages/pandas/core/internals/construction.py:408\u001b[0m, in \u001b[0;36m_check_values_indices_shape_match\u001b[0;34m(values, index, columns)\u001b[0m\n\u001b[1;32m    406\u001b[0m passed \u001b[39m=\u001b[39m values\u001b[39m.\u001b[39mshape\n\u001b[1;32m    407\u001b[0m implied \u001b[39m=\u001b[39m (\u001b[39mlen\u001b[39m(index), \u001b[39mlen\u001b[39m(columns))\n\u001b[0;32m--> 408\u001b[0m \u001b[39mraise\u001b[39;00m \u001b[39mValueError\u001b[39;00m(\u001b[39mf\u001b[39m\u001b[39m\"\u001b[39m\u001b[39mShape of passed values is \u001b[39m\u001b[39m{\u001b[39;00mpassed\u001b[39m}\u001b[39;00m\u001b[39m, indices imply \u001b[39m\u001b[39m{\u001b[39;00mimplied\u001b[39m}\u001b[39;00m\u001b[39m\"\u001b[39m)\n",
      "\u001b[0;31mValueError\u001b[0m: Shape of passed values is (18, 1), indices imply (18, 18)"
     ]
    }
   ],
   "source": [
    "from models.SS_ResNet50 import SS_ResNet50\n",
    "ss_resnet50 = SS_ResNet50()\n",
    "\n",
    "monitor.start(interval=0.1)\n",
    "ss_resnet50.predict()\n",
    "monitor.stop()\n",
    "\n",
    "# monitor.compute_and_print_average()\n",
    "# print(\"\\nPrediction correct: \" + str(ss_resnet50.correct_result()))\n",
    "\n",
    "appendable = []\n",
    "appendable.append(str(time.strftime(\"%y:%m:%d:%H:%M:%S\", time.gmtime())))\n",
    "appendable.append(\"ResNet50\")\n",
    "\n",
    "keys = monitor.compute_and_return_average()\n",
    "\n",
    "for key in keys: # change to value not key\n",
    "    appendable.append(keys[key])\n",
    "    # appendable.append(key) # debug\n",
    "appendable.append(str(ss_resnet50.correct_result()))\n",
    "\n",
    "# if we change the model we can add model info\n",
    "Table.append_to_df(\"Samples1.csv\", [appendable])\n",
    "\n",
    "# sanity check\n",
    "print(\"Appended to samples file: \\n\")\n",
    "print(appendable)\n"
   ]
  }
 ],
 "metadata": {
  "kernelspec": {
   "display_name": "Python 3",
   "language": "python",
   "name": "python3"
  },
  "language_info": {
   "codemirror_mode": {
    "name": "ipython",
    "version": 3
   },
   "file_extension": ".py",
   "mimetype": "text/x-python",
   "name": "python",
   "nbconvert_exporter": "python",
   "pygments_lexer": "ipython3",
   "version": "3.8.10"
  }
 },
 "nbformat": 4,
 "nbformat_minor": 2
}
