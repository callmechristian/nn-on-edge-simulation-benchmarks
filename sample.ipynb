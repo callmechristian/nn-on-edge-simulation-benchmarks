{
 "cells": [
  {
   "cell_type": "code",
   "execution_count": 4,
   "metadata": {},
   "outputs": [],
   "source": [
    "from utils import SystemMonitor\n",
    "\n",
    "monitor = SystemMonitor.SystemMonitor()"
   ]
  },
  {
   "cell_type": "markdown",
   "metadata": {},
   "source": [
    "Might want to drop notebook for sampling because of jupyter and kernel overhead"
   ]
  },
  {
   "cell_type": "markdown",
   "metadata": {},
   "source": [
    "# **ResNet50**"
   ]
  },
  {
   "cell_type": "code",
   "execution_count": 1,
   "metadata": {},
   "outputs": [
    {
     "name": "stderr",
     "output_type": "stream",
     "text": [
      "2023-10-26 19:38:59.906329: I tensorflow/tsl/cuda/cudart_stub.cc:28] Could not find cuda drivers on your machine, GPU will not be used.\n",
      "2023-10-26 19:39:03.730654: I tensorflow/tsl/cuda/cudart_stub.cc:28] Could not find cuda drivers on your machine, GPU will not be used.\n",
      "2023-10-26 19:39:03.736876: I tensorflow/core/platform/cpu_feature_guard.cc:182] This TensorFlow binary is optimized to use available CPU instructions in performance-critical operations.\n",
      "To enable the following instructions: AVX2, in other operations, rebuild TensorFlow with the appropriate compiler flags.\n",
      "2023-10-26 19:39:11.399214: W tensorflow/compiler/tf2tensorrt/utils/py_utils.cc:38] TF-TRT Warning: Could not find TensorRT\n"
     ]
    },
    {
     "ename": "TypeError",
     "evalue": "'module' object is not callable",
     "output_type": "error",
     "traceback": [
      "\u001b[0;31m---------------------------------------------------------------------------\u001b[0m",
      "\u001b[0;31mTypeError\u001b[0m                                 Traceback (most recent call last)",
      "\u001b[1;32m/home/ubuntu/Desktop/RMSW/nn-on-edge-simulation-benchmarks/sample.ipynb Cell 4\u001b[0m line \u001b[0;36m2\n\u001b[1;32m      <a href='vscode-notebook-cell:/home/ubuntu/Desktop/RMSW/nn-on-edge-simulation-benchmarks/sample.ipynb#W3sZmlsZQ%3D%3D?line=0'>1</a>\u001b[0m \u001b[39mfrom\u001b[39;00m \u001b[39mmodels\u001b[39;00m \u001b[39mimport\u001b[39;00m SS_ResNet50\n\u001b[0;32m----> <a href='vscode-notebook-cell:/home/ubuntu/Desktop/RMSW/nn-on-edge-simulation-benchmarks/sample.ipynb#W3sZmlsZQ%3D%3D?line=1'>2</a>\u001b[0m ss_resnet50 \u001b[39m=\u001b[39m SS_ResNet50()\n\u001b[1;32m      <a href='vscode-notebook-cell:/home/ubuntu/Desktop/RMSW/nn-on-edge-simulation-benchmarks/sample.ipynb#W3sZmlsZQ%3D%3D?line=3'>4</a>\u001b[0m monitor\u001b[39m.\u001b[39mstart(interval\u001b[39m=\u001b[39m\u001b[39m0.5\u001b[39m)\n\u001b[1;32m      <a href='vscode-notebook-cell:/home/ubuntu/Desktop/RMSW/nn-on-edge-simulation-benchmarks/sample.ipynb#W3sZmlsZQ%3D%3D?line=4'>5</a>\u001b[0m ss_resnet50\u001b[39m.\u001b[39mpredict()\n",
      "\u001b[0;31mTypeError\u001b[0m: 'module' object is not callable"
     ]
    }
   ],
   "source": [
    "from models import SS_ResNet50\n",
    "ss_resnet50 = SS_ResNet50.SS_ResNet50()\n",
    "\n",
    "monitor.start(interval=0.5)\n",
    "ss_resnet50.predict()\n",
    "monitor.stop()\n",
    "\n",
    "monitor.compute_and_print_average()\n",
    "print(\"\\nPrediction correct: \" + str(ss_resnet50.correct_result()))"
   ]
  }
 ],
 "metadata": {
  "kernelspec": {
   "display_name": "Python 3",
   "language": "python",
   "name": "python3"
  },
  "language_info": {
   "codemirror_mode": {
    "name": "ipython",
    "version": 3
   },
   "file_extension": ".py",
   "mimetype": "text/x-python",
   "name": "python",
   "nbconvert_exporter": "python",
   "pygments_lexer": "ipython3",
   "version": "3.8.10"
  }
 },
 "nbformat": 4,
 "nbformat_minor": 2
}
