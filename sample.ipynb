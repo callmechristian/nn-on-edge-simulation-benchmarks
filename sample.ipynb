{
 "cells": [
  {
   "cell_type": "code",
   "execution_count": 1,
   "metadata": {},
   "outputs": [],
   "source": [
    "from utils.SystemMonitor import SystemMonitor\n",
    "from utils.Table import Table\n",
    "import os\n",
    "\n",
    "monitor = SystemMonitor()"
   ]
  },
  {
   "cell_type": "markdown",
   "metadata": {},
   "source": [
    "Might want to drop notebook for sampling because of jupyter and kernel overhead"
   ]
  },
  {
   "cell_type": "code",
   "execution_count": 2,
   "metadata": {},
   "outputs": [
    {
     "ename": "FileExistsError",
     "evalue": "",
     "output_type": "error",
     "traceback": [
      "\u001b[0;31m---------------------------------------------------------------------------\u001b[0m",
      "\u001b[0;31mFileExistsError\u001b[0m                           Traceback (most recent call last)",
      "\u001b[1;32m/home/ubuntu/Desktop/RMSW/nn-on-edge-simulation-benchmarks/sample.ipynb Cell 3\u001b[0m line \u001b[0;36m7\n\u001b[1;32m      <a href='vscode-notebook-cell:/home/ubuntu/Desktop/RMSW/nn-on-edge-simulation-benchmarks/sample.ipynb#W4sZmlsZQ%3D%3D?line=4'>5</a>\u001b[0m     Table\u001b[39m.\u001b[39mcreate_empty_df(file_name, [\u001b[39m\"\u001b[39m\u001b[39mTimeStamp\u001b[39m\u001b[39m\"\u001b[39m, \u001b[39m\"\u001b[39m\u001b[39mName\u001b[39m\u001b[39m\"\u001b[39m, \u001b[39m\"\u001b[39m\u001b[39mCPU_CORES\u001b[39m\u001b[39m\"\u001b[39m, \u001b[39m\"\u001b[39m\u001b[39mCPU_CORES_LOG\u001b[39m\u001b[39m\"\u001b[39m, \u001b[39m\"\u001b[39m\u001b[39mCPU_FREQ\u001b[39m\u001b[39m\"\u001b[39m, \u001b[39m\"\u001b[39m\u001b[39mRAM_TOTAL_GB\u001b[39m\u001b[39m\"\u001b[39m, \u001b[39m\"\u001b[39m\u001b[39mRAM_AV_GB\u001b[39m\u001b[39m\"\u001b[39m, \u001b[39m\"\u001b[39m\u001b[39mRAM_USED_GB\u001b[39m\u001b[39m\"\u001b[39m, \u001b[39m\"\u001b[39m\u001b[39mSWAP_TOTAL_GB\u001b[39m\u001b[39m\"\u001b[39m, \u001b[39m\"\u001b[39m\u001b[39mSWAP_USED_GB\u001b[39m\u001b[39m\"\u001b[39m, \u001b[39m\"\u001b[39m\u001b[39mCPU\u001b[39m\u001b[39m%\u001b[39m\u001b[39m\"\u001b[39m, \u001b[39m\"\u001b[39m\u001b[39mRAM\u001b[39m\u001b[39m%\u001b[39m\u001b[39m\"\u001b[39m, \u001b[39m\"\u001b[39m\u001b[39mRC\u001b[39m\u001b[39m\"\u001b[39m, \u001b[39m\"\u001b[39m\u001b[39mWC\u001b[39m\u001b[39m\"\u001b[39m, \u001b[39m\"\u001b[39m\u001b[39mRB\u001b[39m\u001b[39m\"\u001b[39m, \u001b[39m\"\u001b[39m\u001b[39mWB\u001b[39m\u001b[39m\"\u001b[39m, \u001b[39m\"\u001b[39m\u001b[39mdt\u001b[39m\u001b[39m\"\u001b[39m, \u001b[39m\"\u001b[39m\u001b[39mPRED\u001b[39m\u001b[39m\"\u001b[39m])\n\u001b[1;32m      <a href='vscode-notebook-cell:/home/ubuntu/Desktop/RMSW/nn-on-edge-simulation-benchmarks/sample.ipynb#W4sZmlsZQ%3D%3D?line=5'>6</a>\u001b[0m \u001b[39melse\u001b[39;00m:\n\u001b[0;32m----> <a href='vscode-notebook-cell:/home/ubuntu/Desktop/RMSW/nn-on-edge-simulation-benchmarks/sample.ipynb#W4sZmlsZQ%3D%3D?line=6'>7</a>\u001b[0m     \u001b[39mraise\u001b[39;00m(\u001b[39mFileExistsError\u001b[39;00m)\n",
      "\u001b[0;31mFileExistsError\u001b[0m: "
     ]
    }
   ],
   "source": [
    "file_name = \"Samples1.csv\"\n",
    "\n",
    "# ONLY RUNS ON NEW SAMPLE GROUP\n",
    "if not os.path.exists(\"dataframes/\" + file_name):\n",
    "    Table.create_empty_df(file_name, [\"TimeStamp\", \"Name\", \"CPU_CORES\", \"CPU_CORES_LOG\", \"CPU_FREQ\", \"RAM_TOTAL_GB\", \"RAM_AV_GB\", \"RAM_USED_GB\", \"SWAP_TOTAL_GB\", \"SWAP_USED_GB\", \"CPU%\", \"RAM%\", \"RC\", \"WC\", \"RB\", \"WB\", \"dt\", \"PRED\"])\n",
    "else:\n",
    "    # raise(FileExistsError)\n",
    "    print(\"Sample file already created. Did you want to start a new batch?\")"
   ]
  },
  {
   "cell_type": "markdown",
   "metadata": {},
   "source": [
    "# **ResNet50**"
   ]
  },
  {
   "cell_type": "code",
   "execution_count": 3,
   "metadata": {},
   "outputs": [
    {
     "name": "stderr",
     "output_type": "stream",
     "text": [
      "2023-10-27 09:01:04.380990: I tensorflow/tsl/cuda/cudart_stub.cc:28] Could not find cuda drivers on your machine, GPU will not be used.\n",
      "2023-10-27 09:01:04.450916: I tensorflow/tsl/cuda/cudart_stub.cc:28] Could not find cuda drivers on your machine, GPU will not be used.\n",
      "2023-10-27 09:01:04.452862: I tensorflow/core/platform/cpu_feature_guard.cc:182] This TensorFlow binary is optimized to use available CPU instructions in performance-critical operations.\n",
      "To enable the following instructions: AVX2, in other operations, rebuild TensorFlow with the appropriate compiler flags.\n",
      "2023-10-27 09:01:05.269183: W tensorflow/compiler/tf2tensorrt/utils/py_utils.cc:38] TF-TRT Warning: Could not find TensorRT\n",
      "Exception in thread Thread-4:\n",
      "Traceback (most recent call last):\n",
      "  File \"/usr/lib/python3.8/threading.py\", line 932, in _bootstrap_inner\n",
      "    self.run()\n",
      "  File \"/usr/lib/python3.8/threading.py\", line 870, in run\n",
      "    self._target(*self._args, **self._kwargs)\n",
      "  File \"/home/ubuntu/Desktop/RMSW/nn-on-edge-simulation-benchmarks/utils/SystemMonitor.py\", line 94, in monitoring_loop\n",
      "    self.totalTime += self.interval\n",
      "AttributeError: 'SystemMonitor' object has no attribute 'totalTime'\n"
     ]
    },
    {
     "name": "stdout",
     "output_type": "stream",
     "text": [
      "Monitoring started with an interval of 0.1 seconds.\n",
      "1/1 [==============================] - 1s 997ms/step\n",
      "Monitoring stopped.\n"
     ]
    },
    {
     "ename": "AttributeError",
     "evalue": "'SystemMonitor' object has no attribute 'totalTime'",
     "output_type": "error",
     "traceback": [
      "\u001b[0;31m---------------------------------------------------------------------------\u001b[0m",
      "\u001b[0;31mAttributeError\u001b[0m                            Traceback (most recent call last)",
      "\u001b[1;32m/home/ubuntu/Desktop/RMSW/nn-on-edge-simulation-benchmarks/sample.ipynb Cell 5\u001b[0m line \u001b[0;36m1\n\u001b[1;32m      <a href='vscode-notebook-cell:/home/ubuntu/Desktop/RMSW/nn-on-edge-simulation-benchmarks/sample.ipynb#W3sZmlsZQ%3D%3D?line=5'>6</a>\u001b[0m monitor\u001b[39m.\u001b[39mstop()\n\u001b[1;32m      <a href='vscode-notebook-cell:/home/ubuntu/Desktop/RMSW/nn-on-edge-simulation-benchmarks/sample.ipynb#W3sZmlsZQ%3D%3D?line=7'>8</a>\u001b[0m \u001b[39m# monitor.compute_and_print_average()\u001b[39;00m\n\u001b[1;32m      <a href='vscode-notebook-cell:/home/ubuntu/Desktop/RMSW/nn-on-edge-simulation-benchmarks/sample.ipynb#W3sZmlsZQ%3D%3D?line=8'>9</a>\u001b[0m \u001b[39m# print(\"\\nPrediction correct: \" + str(ss_resnet50.correct_result()))\u001b[39;00m\n\u001b[0;32m---> <a href='vscode-notebook-cell:/home/ubuntu/Desktop/RMSW/nn-on-edge-simulation-benchmarks/sample.ipynb#W3sZmlsZQ%3D%3D?line=10'>11</a>\u001b[0m Table\u001b[39m.\u001b[39;49mappend_data_to_samples(file_name, \u001b[39m\"\u001b[39;49m\u001b[39mResNet50\u001b[39;49m\u001b[39m\"\u001b[39;49m, monitor, ss_resnet50)\n",
      "File \u001b[0;32m~/Desktop/RMSW/nn-on-edge-simulation-benchmarks/utils/Table.py:61\u001b[0m, in \u001b[0;36mTable.append_data_to_samples\u001b[0;34m(filename, model_name, monitor, model_class)\u001b[0m\n\u001b[1;32m     58\u001b[0m appendable\u001b[39m.\u001b[39mappend(model_name)\n\u001b[1;32m     60\u001b[0m \u001b[39m# Compute and add average values from the monitor\u001b[39;00m\n\u001b[0;32m---> 61\u001b[0m keys \u001b[39m=\u001b[39m monitor\u001b[39m.\u001b[39;49mcompute_and_return_average()\n\u001b[1;32m     62\u001b[0m \u001b[39mfor\u001b[39;00m value \u001b[39min\u001b[39;00m keys\u001b[39m.\u001b[39mvalues():\n\u001b[1;32m     63\u001b[0m     appendable\u001b[39m.\u001b[39mappend(value)\n",
      "File \u001b[0;32m~/Desktop/RMSW/nn-on-edge-simulation-benchmarks/utils/SystemMonitor.py:223\u001b[0m, in \u001b[0;36mSystemMonitor.compute_and_return_average\u001b[0;34m(self)\u001b[0m\n\u001b[1;32m    220\u001b[0m     avg_snapshot[key] \u001b[39m=\u001b[39m \u001b[39msum\u001b[39m(snapshot[key] \u001b[39mfor\u001b[39;00m snapshot \u001b[39min\u001b[39;00m \u001b[39mself\u001b[39m\u001b[39m.\u001b[39msnapshots) \u001b[39m/\u001b[39m num_snapshots\n\u001b[1;32m    222\u001b[0m \u001b[39m# added total monitoring time\u001b[39;00m\n\u001b[0;32m--> 223\u001b[0m avg_snapshot\u001b[39m.\u001b[39mupdate({\u001b[39m\"\u001b[39m\u001b[39mtotal_time\u001b[39m\u001b[39m\"\u001b[39m: \u001b[39mself\u001b[39;49m\u001b[39m.\u001b[39;49mtotalTime})\n\u001b[1;32m    225\u001b[0m \u001b[39mreturn\u001b[39;00m avg_snapshot\n",
      "\u001b[0;31mAttributeError\u001b[0m: 'SystemMonitor' object has no attribute 'totalTime'"
     ]
    }
   ],
   "source": [
    "from models.SS_ResNet50 import SS_ResNet50\n",
    "ss_resnet50 = SS_ResNet50()\n",
    "\n",
    "monitor.start(interval=0.1)\n",
    "ss_resnet50.predict()\n",
    "monitor.stop()\n",
    "\n",
    "# monitor.compute_and_print_average()\n",
    "# print(\"\\nPrediction correct: \" + str(ss_resnet50.correct_result()))\n",
    "\n",
    "Table.append_data_to_samples(file_name, \"ResNet50\", monitor, ss_resnet50)\n"
   ]
  }
 ],
 "metadata": {
  "kernelspec": {
   "display_name": "Python 3",
   "language": "python",
   "name": "python3"
  },
  "language_info": {
   "codemirror_mode": {
    "name": "ipython",
    "version": 3
   },
   "file_extension": ".py",
   "mimetype": "text/x-python",
   "name": "python",
   "nbconvert_exporter": "python",
   "pygments_lexer": "ipython3",
   "version": "3.8.10"
  }
 },
 "nbformat": 4,
 "nbformat_minor": 2
}
