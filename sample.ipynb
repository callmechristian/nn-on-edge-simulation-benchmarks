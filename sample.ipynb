{
 "cells": [
  {
   "cell_type": "code",
   "execution_count": 4,
   "metadata": {},
   "outputs": [],
   "source": [
    "from utils import SystemMonitor\n",
    "\n",
    "monitor = SystemMonitor.SystemMonitor()"
   ]
  },
  {
   "cell_type": "markdown",
   "metadata": {},
   "source": [
    "Might want to drop notebook for sampling because of jupyter and kernel overhead"
   ]
  },
  {
   "cell_type": "markdown",
   "metadata": {},
   "source": [
    "# **ResNet50**"
   ]
  },
  {
   "cell_type": "code",
   "execution_count": 5,
   "metadata": {},
   "outputs": [
    {
     "name": "stdout",
     "output_type": "stream",
     "text": [
      "Monitoring started with an interval of 0.5 seconds.\n",
      "1/1 [==============================] - 3s 3s/step\n",
      "Monitoring stopped.\n",
      "Average Snapshot:\n",
      "{'cpu_percent': 35.980000000000004, 'memory_percent': 82.10000000000001, 'read_count': 301.8, 'write_count': 3161.3, 'read_bytes': 31899648.0, 'write_bytes': 25627033.6}\n",
      "\n",
      "Prediction correct: True\n"
     ]
    }
   ],
   "source": [
    "from models.SS_ResNet50 import SS_ResNet50\n",
    "ss_resnet50 = SS_ResNet50()\n",
    "\n",
    "monitor.start(interval=0.5)\n",
    "ss_resnet50.predict()\n",
    "monitor.stop()\n",
    "\n",
    "monitor.compute_and_print_average()\n",
    "print(\"\\nPrediction correct: \" + str(ss_resnet50.correct_result()))"
   ]
  }
 ],
 "metadata": {
  "kernelspec": {
   "display_name": "Python 3",
   "language": "python",
   "name": "python3"
  },
  "language_info": {
   "codemirror_mode": {
    "name": "ipython",
    "version": 3
   },
   "file_extension": ".py",
   "mimetype": "text/x-python",
   "name": "python",
   "nbconvert_exporter": "python",
   "pygments_lexer": "ipython3",
   "version": "3.8.10"
  }
 },
 "nbformat": 4,
 "nbformat_minor": 2
}
