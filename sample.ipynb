{
 "cells": [
  {
   "cell_type": "code",
   "execution_count": 1,
   "metadata": {},
   "outputs": [
    {
     "name": "stderr",
     "output_type": "stream",
     "text": [
      "2023-10-27 11:08:52.287568: I tensorflow/tsl/cuda/cudart_stub.cc:28] Could not find cuda drivers on your machine, GPU will not be used.\n",
      "2023-10-27 11:08:52.334542: I tensorflow/tsl/cuda/cudart_stub.cc:28] Could not find cuda drivers on your machine, GPU will not be used.\n",
      "2023-10-27 11:08:52.335731: I tensorflow/core/platform/cpu_feature_guard.cc:182] This TensorFlow binary is optimized to use available CPU instructions in performance-critical operations.\n",
      "To enable the following instructions: AVX2, in other operations, rebuild TensorFlow with the appropriate compiler flags.\n",
      "2023-10-27 11:08:53.155501: W tensorflow/compiler/tf2tensorrt/utils/py_utils.cc:38] TF-TRT Warning: Could not find TensorRT\n"
     ]
    }
   ],
   "source": [
    "from utils.SystemMonitor import SystemMonitor\n",
    "from utils.Table import Table\n",
    "\n",
    "import os\n",
    "import tensorflow as tf\n",
    "from importlib import import_module"
   ]
  },
  {
   "cell_type": "markdown",
   "metadata": {},
   "source": [
    "Might want to drop notebook for sampling because of jupyter and kernel overhead"
   ]
  },
  {
   "cell_type": "code",
   "execution_count": 2,
   "metadata": {},
   "outputs": [
    {
     "name": "stdout",
     "output_type": "stream",
     "text": [
      "Sample file already created. Did you want to start a new batch?\n"
     ]
    }
   ],
   "source": [
    "file_name = \"SamplesTest.csv\"\n",
    "\n",
    "# ONLY RUNS ON NEW SAMPLE GROUP\n",
    "if not os.path.exists(\"dataframes/\" + file_name):\n",
    "    Table.create_empty_df(file_name, [\"TimeStamp\", \"Name\", \"CPU_CORES\", \"CPU_CORES_LOG\", \"CPU_FREQ\", \"RAM_TOTAL_GB\", \"RAM_AV_GB\", \"RAM_USED_GB\", \"SWAP_TOTAL_GB\", \"SWAP_USED_GB\", \"CPU%\", \"RAM%\", \"RC\", \"WC\", \"RB\", \"WB\", \"dt\", \"PRED\"])\n",
    "else:\n",
    "    # raise(FileExistsError)\n",
    "    print(\"Sample file already created. Did you want to start a new batch?\")"
   ]
  },
  {
   "cell_type": "code",
   "execution_count": 3,
   "metadata": {},
   "outputs": [
    {
     "name": "stdout",
     "output_type": "stream",
     "text": [
      "Device mapping: no known devices.\n"
     ]
    }
   ],
   "source": [
    "# Create a TensorFlow session\n",
    "config = tf.compat.v1.ConfigProto(log_device_placement=True)\n",
    "config.gpu_options.allow_growth = True\n",
    "config.graph_options.rewrite_options.dependency_optimization = -1\n",
    "\n",
    "# Set reduce_retracing to True or False\n",
    "config.graph_options.rewrite_options.auto_mixed_precision = True\n",
    "\n",
    "# Create a session with the specified configuration\n",
    "sess = tf.compat.v1.Session(config=config)"
   ]
  },
  {
   "cell_type": "markdown",
   "metadata": {},
   "source": [
    "# **ResNet50**"
   ]
  },
  {
   "cell_type": "code",
   "execution_count": 4,
   "metadata": {},
   "outputs": [
    {
     "name": "stdout",
     "output_type": "stream",
     "text": [
      "Monitoring started with an interval of 0.1 seconds.\n",
      "1/1 [==============================] - 1s 1s/step\n",
      "Monitoring stopped.\n",
      "1 row(s) appended to SamplesTest.csv.\n",
      "Appended to sample file:\n",
      "['23:10:27:15:08:57', 'ResNet50', 4, 4, 2808.004, '11.68', '7.58', '3.68', '0.95', '0.00', 58.96153846153846, 34.96923076923076, 0.0, 1.9230769230769231, 0.0, 16384.0, 1.3, 'True']\n"
     ]
    }
   ],
   "source": [
    "def Snapshot_ResNet50():\n",
    "    from models.SS_ResNet50 import SS_ResNet50\n",
    "\n",
    "    ss_resnet50 = SS_ResNet50()\n",
    "\n",
    "    monitor = SystemMonitor()\n",
    "\n",
    "    monitor.start(interval=0.1)\n",
    "    ss_resnet50.predict()\n",
    "    monitor.stop()\n",
    "\n",
    "    Table.append_data_to_samples(file_name, \"ResNet50\", monitor, ss_resnet50)\n",
    "\n",
    "Snapshot_ResNet50()\n"
   ]
  },
  {
   "cell_type": "markdown",
   "metadata": {},
   "source": [
    "# All Models at once"
   ]
  },
  {
   "cell_type": "code",
   "execution_count": 5,
   "metadata": {},
   "outputs": [
    {
     "name": "stdout",
     "output_type": "stream",
     "text": [
      "Found 37 models.\n",
      "SS_EfficientNetV2B2\n",
      "SS_ConvNeXtBase\n",
      "SS_EfficientNetV2B0\n",
      "SS_ResNet101\n",
      "SS_EfficientNetB1\n",
      "SS_ConvNeXtXLarge\n",
      "SS_VGG19\n",
      "SS_EfficientNetB5\n",
      "SS_EfficientNetB2\n",
      "SS_MobileNet\n",
      "SS_ResNet50V2\n",
      "SS_EfficientNetB4\n",
      "SS_ConvNeXtTiny\n",
      "SS_InceptionResNetV2\n",
      "SS_VGG16\n",
      "SS_EfficientNetB0\n",
      "SS_EfficientNetV2L\n",
      "SS_DenseNet201\n",
      "SS_ConvNeXtSmall\n",
      "SS_EfficientNetB7\n",
      "SS_InceptionV3\n",
      "SS_EfficientNetB6\n",
      "SS_EfficientNetB3\n",
      "SS_EfficientNetV2M\n",
      "SS_DenseNet121\n",
      "SS_ResNet152\n",
      "SS_EfficientNetV2B3\n",
      "SS_ResNet101V2\n",
      "SS_MobileNetV2\n",
      "SS_ResNet152V2\n",
      "SS_DenseNet169\n",
      "SS_NASNetLarge\n",
      "SS_NASNetMobile\n",
      "SS_ConvNeXtLarge\n",
      "SS_ResNet50\n",
      "SS_EfficientNetV2S\n",
      "SS_Xception\n",
      "Monitoring started with an interval of 0.1 seconds.\n",
      "1/1 [==============================] - 2s 2s/step\n",
      "Monitoring stopped.\n",
      "1 row(s) appended to SamplesTest.csv.\n",
      "Appended to sample file:\n",
      "['23:10:27:15:09:04', 'SS_EfficientNetV2B2', 4, 4, 2808.004, '11.68', '7.62', '3.66', '0.95', '0.00', 46.769696969696966, 34.772727272727266, 0.0, 1.6666666666666667, 0.0, 12660.363636363636, 2.0000000000000004, 'True']\n",
      "Monitoring started with an interval of 0.1 seconds.\n"
     ]
    },
    {
     "name": "stderr",
     "output_type": "stream",
     "text": [
      "2023-10-27 11:09:13.456487: I tensorflow/compiler/xla/service/service.cc:168] XLA service 0x7f11803e03f0 initialized for platform Host (this does not guarantee that XLA will be used). Devices:\n",
      "2023-10-27 11:09:13.456740: I tensorflow/compiler/xla/service/service.cc:176]   StreamExecutor device (0): Host, Default Version\n",
      "2023-10-27 11:09:13.471533: I ./tensorflow/compiler/jit/device_compiler.h:186] Compiled cluster using XLA!  This line is logged at most once for the lifetime of the process.\n"
     ]
    },
    {
     "name": "stdout",
     "output_type": "stream",
     "text": [
      "1/1 [==============================] - 6s 6s/step\n",
      "Monitoring stopped.\n",
      "1 row(s) appended to SamplesTest.csv.\n",
      "Appended to sample file:\n",
      "['23:10:27:15:09:16', 'SS_ConvNeXtBase', 4, 4, 2808.004, '11.68', '7.28', '3.99', '0.95', '0.00', 49.23617021276595, 36.484042553191465, 0.1276595744680851, 1.9148936170212767, 1307.2340425531916, 31983.659574468085, 6.099999999999994, 'True']\n",
      "Monitoring started with an interval of 0.1 seconds.\n",
      "1/1 [==============================] - 2s 2s/step\n",
      "Monitoring stopped.\n",
      "1 row(s) appended to SamplesTest.csv.\n",
      "Appended to sample file:\n",
      "['23:10:27:15:09:21', 'SS_EfficientNetV2B0', 4, 4, 2808.004, '11.68', '7.74', '3.54', '0.95', '0.00', 49.770175438596475, 36.03596491228068, 0.2807017543859649, 10.324561403508772, 2443.2280701754385, 99956.77192982456, 2.0000000000000004, 'True']\n",
      "Monitoring started with an interval of 0.1 seconds.\n",
      "WARNING:tensorflow:5 out of the last 5 calls to <function Model.make_predict_function.<locals>.predict_function at 0x7f118a14c040> triggered tf.function retracing. Tracing is expensive and the excessive number of tracings could be due to (1) creating @tf.function repeatedly in a loop, (2) passing tensors with different shapes, (3) passing Python objects instead of tensors. For (1), please define your @tf.function outside of the loop. For (2), @tf.function has reduce_retracing=True option that can avoid unnecessary retracing. For (3), please refer to https://www.tensorflow.org/guide/function#controlling_retracing and https://www.tensorflow.org/api_docs/python/tf/function for  more details.\n",
      "1/1 [==============================] - 2s 2s/step\n",
      "Monitoring stopped.\n",
      "1 row(s) appended to SamplesTest.csv.\n",
      "Appended to sample file:\n",
      "['23:10:27:15:09:28', 'SS_ResNet101', 4, 4, 2808.004, '11.68', '7.49', '3.78', '0.95', '0.00', 49.30820895522387, 36.005223880597, 0.44776119402985076, 17.70149253731343, 3484.6567164179105, 160416.4776119403, 2.0000000000000004, 'True']\n",
      "Monitoring started with an interval of 0.1 seconds.\n",
      "WARNING:tensorflow:6 out of the last 6 calls to <function Model.make_predict_function.<locals>.predict_function at 0x7f118a40eca0> triggered tf.function retracing. Tracing is expensive and the excessive number of tracings could be due to (1) creating @tf.function repeatedly in a loop, (2) passing tensors with different shapes, (3) passing Python objects instead of tensors. For (1), please define your @tf.function outside of the loop. For (2), @tf.function has reduce_retracing=True option that can avoid unnecessary retracing. For (3), please refer to https://www.tensorflow.org/guide/function#controlling_retracing and https://www.tensorflow.org/api_docs/python/tf/function for  more details.\n",
      "1/1 [==============================] - 2s 2s/step\n",
      "Monitoring stopped.\n",
      "1 row(s) appended to SamplesTest.csv.\n",
      "Appended to sample file:\n",
      "['23:10:27:15:09:34', 'SS_EfficientNetB1', 4, 4, 2808.004, '11.68', '7.70', '3.57', '0.95', '0.00', 47.76447368421052, 35.75592105263156, 0.39473684210526316, 15.697368421052632, 3072.0, 142012.63157894736, 1.8000000000000005, 'True']\n",
      "Execution failed on SS_ConvNeXtXLarge... try 1\n",
      "Execution failed on SS_ConvNeXtXLarge... try 2\n",
      "Execution failed on SS_ConvNeXtXLarge... try 3\n",
      "Execution failed on SS_ConvNeXtXLarge... try 4\n",
      "Execution failed on SS_ConvNeXtXLarge... try 5\n",
      "Monitoring started with an interval of 0.1 seconds.\n",
      "1/1 [==============================] - 9s 9s/step\n",
      "Monitoring stopped.\n",
      "1 row(s) appended to SamplesTest.csv.\n",
      "Appended to sample file:\n",
      "['23:10:27:15:10:22', 'SS_ConvNeXtXLarge', 4, 4, 2808.004, '11.68', '5.76', '5.52', '0.95', '0.49', 46.570781893004124, 41.43456790123465, 0.24691358024691357, 9.962962962962964, 1921.5802469135801, 89640.03292181069, 9.099999999999984, 'True']\n"
     ]
    },
    {
     "name": "stderr",
     "output_type": "stream",
     "text": [
      "2023-10-27 11:10:23.649379: W tensorflow/tsl/framework/cpu_allocator_impl.cc:83] Allocation of 411041792 exceeds 10% of free system memory.\n",
      "2023-10-27 11:10:23.866029: W tensorflow/tsl/framework/cpu_allocator_impl.cc:83] Allocation of 411041792 exceeds 10% of free system memory.\n",
      "2023-10-27 11:10:23.976293: W tensorflow/tsl/framework/cpu_allocator_impl.cc:83] Allocation of 411041792 exceeds 10% of free system memory.\n",
      "2023-10-27 11:10:30.646462: W tensorflow/tsl/framework/cpu_allocator_impl.cc:83] Allocation of 411041792 exceeds 10% of free system memory.\n"
     ]
    },
    {
     "name": "stdout",
     "output_type": "stream",
     "text": [
      "Monitoring started with an interval of 0.1 seconds.\n",
      "1/1 [==============================] - 0s 391ms/step\n",
      "Monitoring stopped.\n",
      "1 row(s) appended to SamplesTest.csv.\n",
      "Appended to sample file:\n",
      "['23:10:27:15:10:31', 'SS_VGG19', 4, 4, 2808.004, '11.68', '5.51', '5.77', '0.95', '0.49', 46.51659919028341, 41.61862348178145, 0.242914979757085, 9.80161943319838, 1890.4615384615386, 88188.37246963562, 0.4, 'True']\n",
      "Monitoring started with an interval of 0.1 seconds.\n",
      "1/1 [==============================] - 4s 4s/step\n",
      "Monitoring stopped.\n",
      "1 row(s) appended to SamplesTest.csv.\n",
      "Appended to sample file:\n",
      "['23:10:27:15:10:40', 'SS_EfficientNetB5', 4, 4, 2808.004, '11.68', '7.77', '3.51', '0.95', '0.49', 45.619642857142864, 40.76178571428575, 0.22857142857142856, 8.689285714285715, 3423.0857142857144, 78087.31428571428, 3.3000000000000016, 'True']\n",
      "Monitoring started with an interval of 0.1 seconds.\n",
      "1/1 [==============================] - 2s 2s/step\n",
      "Monitoring stopped.\n",
      "1 row(s) appended to SamplesTest.csv.\n",
      "Appended to sample file:\n",
      "['23:10:27:15:10:45', 'SS_EfficientNetB2', 4, 4, 2808.004, '11.68', '7.87', '3.42', '0.95', '0.49', 44.926510067114094, 40.264429530201355, 176.48322147651007, 442.9261744966443, 5006164.187919463, 3625564.77852349, 1.8000000000000005, 'True']\n",
      "Monitoring started with an interval of 0.1 seconds.\n",
      "1/1 [==============================] - 0s 436ms/step\n",
      "Monitoring stopped.\n",
      "1 row(s) appended to SamplesTest.csv.\n",
      "Appended to sample file:\n",
      "['23:10:27:15:10:47', 'SS_MobileNet', 4, 4, 2808.004, '11.68', '7.85', '3.43', '0.95', '0.49', 44.75478547854786, 40.14554455445546, 173.57095709570956, 435.6798679867987, 4923554.217821782, 3566223.6303630364, 0.5, 'True']\n",
      "Monitoring started with an interval of 0.1 seconds.\n",
      "1/1 [==============================] - 1s 818ms/step\n",
      "Monitoring stopped.\n",
      "1 row(s) appended to SamplesTest.csv.\n",
      "Appended to sample file:\n",
      "['23:10:27:15:10:51', 'SS_ResNet50V2', 4, 4, 2808.004, '11.68', '7.57', '3.71', '0.95', '0.49', 44.446623794212215, 40.01350482315114, 341.04501607717043, 841.2861736334405, 9603183.948553056, 6879831.254019293, 0.7999999999999999, 'True']\n",
      "Monitoring started with an interval of 0.1 seconds.\n",
      "1/1 [==============================] - 3s 3s/step\n",
      "Monitoring stopped.\n",
      "1 row(s) appended to SamplesTest.csv.\n",
      "Appended to sample file:\n",
      "['23:10:27:15:10:59', 'SS_EfficientNetB4', 4, 4, 2808.004, '11.68', '7.91', '3.38', '0.95', '0.49', 43.87181008902076, 39.39762611275963, 314.73293768545994, 776.4154302670623, 8862285.483679526, 6349310.480712166, 2.600000000000001, 'False']\n",
      "Monitoring started with an interval of 0.1 seconds.\n",
      "1/1 [==============================] - 3s 3s/step\n",
      "Monitoring stopped.\n",
      "1 row(s) appended to SamplesTest.csv.\n",
      "Appended to sample file:\n",
      "['23:10:27:15:11:06', 'SS_ConvNeXtTiny', 4, 4, 2808.004, '11.68', '7.81', '3.48', '0.95', '0.49', 43.05851648351647, 38.94615384615385, 440.3626373626374, 1075.2527472527472, 12319867.78021978, 8789925.978021977, 2.700000000000001, 'True']\n",
      "Monitoring started with an interval of 0.1 seconds.\n",
      "1/1 [==============================] - 3s 3s/step\n",
      "Monitoring stopped.\n",
      "1 row(s) appended to SamplesTest.csv.\n",
      "Appended to sample file:\n",
      "['23:10:27:15:11:16', 'SS_InceptionResNetV2', 4, 4, 2808.004, '11.68', '7.60', '3.69', '0.95', '0.49', 42.60839694656487, 38.64427480916027, 407.8727735368957, 995.9440203562341, 11410788.966921119, 8142577.017811704, 2.9000000000000012, 'True']\n"
     ]
    },
    {
     "name": "stderr",
     "output_type": "stream",
     "text": [
      "2023-10-27 11:11:17.171543: W tensorflow/tsl/framework/cpu_allocator_impl.cc:83] Allocation of 411041792 exceeds 10% of free system memory.\n"
     ]
    },
    {
     "name": "stdout",
     "output_type": "stream",
     "text": [
      "Monitoring started with an interval of 0.1 seconds.\n",
      "1/1 [==============================] - 0s 356ms/step\n",
      "Monitoring stopped.\n",
      "1 row(s) appended to SamplesTest.csv.\n",
      "Appended to sample file:\n",
      "['23:10:27:15:11:25', 'SS_VGG16', 4, 4, 2808.004, '11.68', '7.10', '4.19', '0.95', '0.49', 42.64861460957178, 38.66574307304783, 403.7632241813602, 985.9093198992443, 11295818.801007556, 8060535.939546599, 0.4, 'True']\n",
      "Downloading data from https://storage.googleapis.com/keras-applications/efficientnetb0.h5\n",
      "21834768/21834768 [==============================] - 7s 0us/step\n",
      "Monitoring started with an interval of 0.1 seconds.\n",
      "1/1 [==============================] - 1s 1s/step\n",
      "Monitoring stopped.\n",
      "1 row(s) appended to SamplesTest.csv.\n",
      "Appended to sample file:\n",
      "['23:10:27:15:11:36', 'SS_EfficientNetB0', 4, 4, 2808.004, '11.68', '7.92', '3.37', '0.95', '0.49', 42.22634146341461, 38.469268292682905, 609.4365853658536, 1271.6780487804879, 15094679.102439024, 10394589.03414634, 1.3, 'True']\n",
      "Downloading data from https://storage.googleapis.com/tensorflow/keras-applications/efficientnet_v2/efficientnetv2-l.h5\n",
      "478307632/478307632 [==============================] - 46s 0us/step\n",
      "Monitoring started with an interval of 0.1 seconds.\n",
      "Executed 16 out of 37 models.\n"
     ]
    },
    {
     "ename": "ValueError",
     "evalue": "in user code:\n\n    File \"/home/ubuntu/.local/lib/python3.8/site-packages/keras/src/engine/training.py\", line 2341, in predict_function  *\n        return step_function(self, iterator)\n    File \"/home/ubuntu/.local/lib/python3.8/site-packages/keras/src/engine/training.py\", line 2327, in step_function  **\n        outputs = model.distribute_strategy.run(run_step, args=(data,))\n    File \"/home/ubuntu/.local/lib/python3.8/site-packages/keras/src/engine/training.py\", line 2315, in run_step  **\n        outputs = model.predict_step(data)\n    File \"/home/ubuntu/.local/lib/python3.8/site-packages/keras/src/engine/training.py\", line 2283, in predict_step\n        return self(x, training=False)\n    File \"/home/ubuntu/.local/lib/python3.8/site-packages/keras/src/utils/traceback_utils.py\", line 70, in error_handler\n        raise e.with_traceback(filtered_tb) from None\n    File \"/home/ubuntu/.local/lib/python3.8/site-packages/keras/src/engine/input_spec.py\", line 298, in assert_input_compatibility\n        raise ValueError(\n\n    ValueError: Input 0 of layer \"efficientnetv2-l\" is incompatible with the layer: expected shape=(None, 480, 480, 3), found shape=(None, 224, 224, 3)\n",
     "output_type": "error",
     "traceback": [
      "\u001b[0;31m---------------------------------------------------------------------------\u001b[0m",
      "\u001b[0;31mValueError\u001b[0m                                Traceback (most recent call last)",
      "\u001b[1;32m/home/ubuntu/Desktop/RMSW/nn-on-edge-simulation-benchmarks/sample.ipynb Cell 8\u001b[0m line \u001b[0;36m6\n\u001b[1;32m     <a href='vscode-notebook-cell:/home/ubuntu/Desktop/RMSW/nn-on-edge-simulation-benchmarks/sample.ipynb#W5sZmlsZQ%3D%3D?line=60'>61</a>\u001b[0m \u001b[39mexcept\u001b[39;00m \u001b[39mException\u001b[39;00m \u001b[39mas\u001b[39;00m e:\n\u001b[1;32m     <a href='vscode-notebook-cell:/home/ubuntu/Desktop/RMSW/nn-on-edge-simulation-benchmarks/sample.ipynb#W5sZmlsZQ%3D%3D?line=61'>62</a>\u001b[0m     \u001b[39mprint\u001b[39m(\u001b[39m\"\u001b[39m\u001b[39mExecuted \u001b[39m\u001b[39m\"\u001b[39m \u001b[39m+\u001b[39m \u001b[39mstr\u001b[39m(nr_models_executed) \u001b[39m+\u001b[39m \u001b[39m\"\u001b[39m\u001b[39m out of \u001b[39m\u001b[39m\"\u001b[39m \u001b[39m+\u001b[39m \u001b[39mstr\u001b[39m(\u001b[39mlen\u001b[39m(model_files)) \u001b[39m+\u001b[39m \u001b[39m\"\u001b[39m\u001b[39m models.\u001b[39m\u001b[39m\"\u001b[39m)\n\u001b[0;32m---> <a href='vscode-notebook-cell:/home/ubuntu/Desktop/RMSW/nn-on-edge-simulation-benchmarks/sample.ipynb#W5sZmlsZQ%3D%3D?line=62'>63</a>\u001b[0m     \u001b[39mraise\u001b[39;00m(e)\n",
      "\u001b[1;32m/home/ubuntu/Desktop/RMSW/nn-on-edge-simulation-benchmarks/sample.ipynb Cell 8\u001b[0m line \u001b[0;36m5\n\u001b[1;32m     <a href='vscode-notebook-cell:/home/ubuntu/Desktop/RMSW/nn-on-edge-simulation-benchmarks/sample.ipynb#W5sZmlsZQ%3D%3D?line=49'>50</a>\u001b[0m monitor\u001b[39m.\u001b[39mstart(interval\u001b[39m=\u001b[39m\u001b[39m0.1\u001b[39m)\n\u001b[1;32m     <a href='vscode-notebook-cell:/home/ubuntu/Desktop/RMSW/nn-on-edge-simulation-benchmarks/sample.ipynb#W5sZmlsZQ%3D%3D?line=50'>51</a>\u001b[0m \u001b[39m# Make predictions\u001b[39;00m\n\u001b[0;32m---> <a href='vscode-notebook-cell:/home/ubuntu/Desktop/RMSW/nn-on-edge-simulation-benchmarks/sample.ipynb#W5sZmlsZQ%3D%3D?line=51'>52</a>\u001b[0m model_instance\u001b[39m.\u001b[39;49mpredict()\n\u001b[1;32m     <a href='vscode-notebook-cell:/home/ubuntu/Desktop/RMSW/nn-on-edge-simulation-benchmarks/sample.ipynb#W5sZmlsZQ%3D%3D?line=52'>53</a>\u001b[0m \u001b[39m# Stop monitoring\u001b[39;00m\n\u001b[1;32m     <a href='vscode-notebook-cell:/home/ubuntu/Desktop/RMSW/nn-on-edge-simulation-benchmarks/sample.ipynb#W5sZmlsZQ%3D%3D?line=53'>54</a>\u001b[0m monitor\u001b[39m.\u001b[39mstop()\n",
      "File \u001b[0;32m~/Desktop/RMSW/nn-on-edge-simulation-benchmarks/models/SS_EfficientNetV2L.py:22\u001b[0m, in \u001b[0;36mSS_EfficientNetV2L.predict\u001b[0;34m(self)\u001b[0m\n\u001b[1;32m     21\u001b[0m \u001b[39mdef\u001b[39;00m \u001b[39mpredict\u001b[39m(\u001b[39mself\u001b[39m):\n\u001b[0;32m---> 22\u001b[0m     \u001b[39mself\u001b[39m\u001b[39m.\u001b[39mpreds \u001b[39m=\u001b[39m \u001b[39mself\u001b[39;49m\u001b[39m.\u001b[39;49mmodel\u001b[39m.\u001b[39;49mpredict(\u001b[39mself\u001b[39;49m\u001b[39m.\u001b[39;49mx)\n",
      "File \u001b[0;32m~/.local/lib/python3.8/site-packages/keras/src/utils/traceback_utils.py:70\u001b[0m, in \u001b[0;36mfilter_traceback.<locals>.error_handler\u001b[0;34m(*args, **kwargs)\u001b[0m\n\u001b[1;32m     67\u001b[0m     filtered_tb \u001b[39m=\u001b[39m _process_traceback_frames(e\u001b[39m.\u001b[39m__traceback__)\n\u001b[1;32m     68\u001b[0m     \u001b[39m# To get the full stack trace, call:\u001b[39;00m\n\u001b[1;32m     69\u001b[0m     \u001b[39m# `tf.debugging.disable_traceback_filtering()`\u001b[39;00m\n\u001b[0;32m---> 70\u001b[0m     \u001b[39mraise\u001b[39;00m e\u001b[39m.\u001b[39mwith_traceback(filtered_tb) \u001b[39mfrom\u001b[39;00m \u001b[39mNone\u001b[39;00m\n\u001b[1;32m     71\u001b[0m \u001b[39mfinally\u001b[39;00m:\n\u001b[1;32m     72\u001b[0m     \u001b[39mdel\u001b[39;00m filtered_tb\n",
      "File \u001b[0;32m/tmp/__autograph_generated_filehuc1u79b.py:15\u001b[0m, in \u001b[0;36mouter_factory.<locals>.inner_factory.<locals>.tf__predict_function\u001b[0;34m(iterator)\u001b[0m\n\u001b[1;32m     13\u001b[0m \u001b[39mtry\u001b[39;00m:\n\u001b[1;32m     14\u001b[0m     do_return \u001b[39m=\u001b[39m \u001b[39mTrue\u001b[39;00m\n\u001b[0;32m---> 15\u001b[0m     retval_ \u001b[39m=\u001b[39m ag__\u001b[39m.\u001b[39mconverted_call(ag__\u001b[39m.\u001b[39mld(step_function), (ag__\u001b[39m.\u001b[39mld(\u001b[39mself\u001b[39m), ag__\u001b[39m.\u001b[39mld(iterator)), \u001b[39mNone\u001b[39;00m, fscope)\n\u001b[1;32m     16\u001b[0m \u001b[39mexcept\u001b[39;00m:\n\u001b[1;32m     17\u001b[0m     do_return \u001b[39m=\u001b[39m \u001b[39mFalse\u001b[39;00m\n",
      "\u001b[0;31mValueError\u001b[0m: in user code:\n\n    File \"/home/ubuntu/.local/lib/python3.8/site-packages/keras/src/engine/training.py\", line 2341, in predict_function  *\n        return step_function(self, iterator)\n    File \"/home/ubuntu/.local/lib/python3.8/site-packages/keras/src/engine/training.py\", line 2327, in step_function  **\n        outputs = model.distribute_strategy.run(run_step, args=(data,))\n    File \"/home/ubuntu/.local/lib/python3.8/site-packages/keras/src/engine/training.py\", line 2315, in run_step  **\n        outputs = model.predict_step(data)\n    File \"/home/ubuntu/.local/lib/python3.8/site-packages/keras/src/engine/training.py\", line 2283, in predict_step\n        return self(x, training=False)\n    File \"/home/ubuntu/.local/lib/python3.8/site-packages/keras/src/utils/traceback_utils.py\", line 70, in error_handler\n        raise e.with_traceback(filtered_tb) from None\n    File \"/home/ubuntu/.local/lib/python3.8/site-packages/keras/src/engine/input_spec.py\", line 298, in assert_input_compatibility\n        raise ValueError(\n\n    ValueError: Input 0 of layer \"efficientnetv2-l\" is incompatible with the layer: expected shape=(None, 480, 480, 3), found shape=(None, 224, 224, 3)\n"
     ]
    }
   ],
   "source": [
    "models_folder = \"models\"\n",
    "\n",
    "# Get a list of all Python files in the folder (excluding __init__.py and SS_model.py)\n",
    "model_files = [f[:-3] for f in os.listdir(models_folder) if f.endswith(\".py\") and f != \"__init__.py\" and f != \"SS_model.py\"]\n",
    "\n",
    "# Ease of use print nr of found models\n",
    "print(\"Found \" + str(len(model_files)) + \" models.\")\n",
    "for file in model_files:\n",
    "    print(file)\n",
    "\n",
    "# Count them for debug\n",
    "nr_models_executed = 0\n",
    "\n",
    "# Iterate through the model files and import the classes\n",
    "for model_file in model_files:\n",
    "    try:\n",
    "        # Import the module dynamically\n",
    "        model_module = import_module(f\"{models_folder}.{model_file}\")\n",
    "        \n",
    "        # Get the class name\n",
    "        class_name = model_file.replace(\"Ss\", \"SS\")\n",
    "            \n",
    "        # Create an instance of the model class\n",
    "        model_instance = None\n",
    "        _ctr = 0\n",
    "        while True:\n",
    "            # Some models give random errors so they must be run multiple times....\n",
    "            _no_rand_error = True \n",
    "\n",
    "            # Handle model instantiation errors\n",
    "            try:\n",
    "                model_instance = getattr(model_module, class_name)()\n",
    "            except AttributeError as e: # handle random error\n",
    "                _no_rand_error = False\n",
    "                _ctr += 1\n",
    "                print(\"Execution failed on \" + class_name + \"... try \" + str(_ctr))\n",
    "            except Exception as e: # handle actual errors\n",
    "                raise e\n",
    "\n",
    "            if _no_rand_error:\n",
    "                break\n",
    "        \n",
    "        if model_instance == None:\n",
    "            raise ReferenceError\n",
    "\n",
    "        # Instantiate a new system resource monitor\n",
    "        monitor = SystemMonitor()\n",
    "        \n",
    "        # Start monitoring\n",
    "        monitor.start(interval=0.1)\n",
    "        # Make predictions\n",
    "        model_instance.predict()\n",
    "        # Stop monitoring\n",
    "        monitor.stop()\n",
    "        \n",
    "        # Append data to the samples file for each model\n",
    "        Table.append_data_to_samples(file_name, model_instance.__class__.__name__, monitor, model_instance)\n",
    "\n",
    "        # Increment counter\n",
    "        nr_models_executed += 1\n",
    "    except Exception as e:\n",
    "        print(\"Executed \" + str(nr_models_executed) + \" out of \" + str(len(model_files)) + \" models.\")\n",
    "        raise(e)"
   ]
  }
 ],
 "metadata": {
  "kernelspec": {
   "display_name": "Python 3",
   "language": "python",
   "name": "python3"
  },
  "language_info": {
   "codemirror_mode": {
    "name": "ipython",
    "version": 3
   },
   "file_extension": ".py",
   "mimetype": "text/x-python",
   "name": "python",
   "nbconvert_exporter": "python",
   "pygments_lexer": "ipython3",
   "version": "3.8.10"
  }
 },
 "nbformat": 4,
 "nbformat_minor": 2
}
