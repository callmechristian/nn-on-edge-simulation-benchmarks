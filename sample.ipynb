{
 "cells": [
  {
   "cell_type": "code",
   "execution_count": 2,
   "metadata": {},
   "outputs": [],
   "source": [
    "from utils.SystemMonitor import SystemMonitor\n",
    "from utils.Table import Table\n",
    "import os\n",
    "\n",
    "monitor = SystemMonitor()"
   ]
  },
  {
   "cell_type": "markdown",
   "metadata": {},
   "source": [
    "Might want to drop notebook for sampling because of jupyter and kernel overhead"
   ]
  },
  {
   "cell_type": "code",
   "execution_count": 4,
   "metadata": {},
   "outputs": [
    {
     "ename": "FileExistsError",
     "evalue": "",
     "output_type": "error",
     "traceback": [
      "\u001b[0;31m---------------------------------------------------------------------------\u001b[0m",
      "\u001b[0;31mFileExistsError\u001b[0m                           Traceback (most recent call last)",
      "\u001b[1;32m/home/ubuntu/Desktop/RMSW/nn-on-edge-simulation-benchmarks/sample.ipynb Cell 3\u001b[0m line \u001b[0;36m7\n\u001b[1;32m      <a href='vscode-notebook-cell:/home/ubuntu/Desktop/RMSW/nn-on-edge-simulation-benchmarks/sample.ipynb#W4sZmlsZQ%3D%3D?line=4'>5</a>\u001b[0m     Table\u001b[39m.\u001b[39mcreate_empty_df(file_name, [\u001b[39m\"\u001b[39m\u001b[39mTimeStamp\u001b[39m\u001b[39m\"\u001b[39m, \u001b[39m\"\u001b[39m\u001b[39mName\u001b[39m\u001b[39m\"\u001b[39m, \u001b[39m\"\u001b[39m\u001b[39mCPU_CORES\u001b[39m\u001b[39m\"\u001b[39m, \u001b[39m\"\u001b[39m\u001b[39mCPU_CORES_LOG\u001b[39m\u001b[39m\"\u001b[39m, \u001b[39m\"\u001b[39m\u001b[39mCPU_FREQ\u001b[39m\u001b[39m\"\u001b[39m, \u001b[39m\"\u001b[39m\u001b[39mRAM_TOTAL_GB\u001b[39m\u001b[39m\"\u001b[39m, \u001b[39m\"\u001b[39m\u001b[39mRAM_AV_GB\u001b[39m\u001b[39m\"\u001b[39m, \u001b[39m\"\u001b[39m\u001b[39mRAM_USED_GB\u001b[39m\u001b[39m\"\u001b[39m, \u001b[39m\"\u001b[39m\u001b[39mSWAP_TOTAL_GB\u001b[39m\u001b[39m\"\u001b[39m, \u001b[39m\"\u001b[39m\u001b[39mSWAP_USED_GB\u001b[39m\u001b[39m\"\u001b[39m, \u001b[39m\"\u001b[39m\u001b[39mCPU\u001b[39m\u001b[39m%\u001b[39m\u001b[39m\"\u001b[39m, \u001b[39m\"\u001b[39m\u001b[39mRAM\u001b[39m\u001b[39m%\u001b[39m\u001b[39m\"\u001b[39m, \u001b[39m\"\u001b[39m\u001b[39mRC\u001b[39m\u001b[39m\"\u001b[39m, \u001b[39m\"\u001b[39m\u001b[39mWC\u001b[39m\u001b[39m\"\u001b[39m, \u001b[39m\"\u001b[39m\u001b[39mRB\u001b[39m\u001b[39m\"\u001b[39m, \u001b[39m\"\u001b[39m\u001b[39mWB\u001b[39m\u001b[39m\"\u001b[39m, \u001b[39m\"\u001b[39m\u001b[39mdt\u001b[39m\u001b[39m\"\u001b[39m, \u001b[39m\"\u001b[39m\u001b[39mPRED\u001b[39m\u001b[39m\"\u001b[39m])\n\u001b[1;32m      <a href='vscode-notebook-cell:/home/ubuntu/Desktop/RMSW/nn-on-edge-simulation-benchmarks/sample.ipynb#W4sZmlsZQ%3D%3D?line=5'>6</a>\u001b[0m \u001b[39melse\u001b[39;00m:\n\u001b[0;32m----> <a href='vscode-notebook-cell:/home/ubuntu/Desktop/RMSW/nn-on-edge-simulation-benchmarks/sample.ipynb#W4sZmlsZQ%3D%3D?line=6'>7</a>\u001b[0m     \u001b[39mraise\u001b[39;00m(\u001b[39mFileExistsError\u001b[39;00m)\n",
      "\u001b[0;31mFileExistsError\u001b[0m: "
     ]
    }
   ],
   "source": [
    "file_name = \"Samples1.csv\"\n",
    "\n",
    "# ONLY RUNS ON NEW SAMPLE GROUP\n",
    "if not os.path.exists(\"dataframes/\" + file_name):\n",
    "    Table.create_empty_df(file_name, [\"TimeStamp\", \"Name\", \"CPU_CORES\", \"CPU_CORES_LOG\", \"CPU_FREQ\", \"RAM_TOTAL_GB\", \"RAM_AV_GB\", \"RAM_USED_GB\", \"SWAP_TOTAL_GB\", \"SWAP_USED_GB\", \"CPU%\", \"RAM%\", \"RC\", \"WC\", \"RB\", \"WB\", \"dt\", \"PRED\"])\n",
    "else:\n",
    "    raise(FileExistsError)"
   ]
  },
  {
   "cell_type": "markdown",
   "metadata": {},
   "source": [
    "# **ResNet50**"
   ]
  },
  {
   "cell_type": "code",
   "execution_count": 5,
   "metadata": {},
   "outputs": [
    {
     "name": "stdout",
     "output_type": "stream",
     "text": [
      "Monitoring started with an interval of 0.1 seconds.\n",
      "1/1 [==============================] - 1s 999ms/step\n",
      "Monitoring stopped.\n",
      "1 row(s) appended to Samples1.csv.\n",
      "Appended to sample file:\n",
      "['23:10:27:12:52:25', 'ResNet50', 4, 4, 2808.004, '11.68', '7.94', '3.33', '0.95', '0.00', 39.333333333333336, 31.880952380952376, 0.0, 26.952380952380953, 0.0, 157598.47619047618, 0.1, 'True']\n"
     ]
    }
   ],
   "source": [
    "from models.SS_ResNet50 import SS_ResNet50\n",
    "ss_resnet50 = SS_ResNet50()\n",
    "\n",
    "monitor.start(interval=0.1)\n",
    "ss_resnet50.predict()\n",
    "monitor.stop()\n",
    "\n",
    "# monitor.compute_and_print_average()\n",
    "# print(\"\\nPrediction correct: \" + str(ss_resnet50.correct_result()))\n",
    "\n",
    "Table.append_data_to_samples(file_name, \"ResNet50\", monitor, ss_resnet50)\n"
   ]
  }
 ],
 "metadata": {
  "kernelspec": {
   "display_name": "Python 3",
   "language": "python",
   "name": "python3"
  },
  "language_info": {
   "codemirror_mode": {
    "name": "ipython",
    "version": 3
   },
   "file_extension": ".py",
   "mimetype": "text/x-python",
   "name": "python",
   "nbconvert_exporter": "python",
   "pygments_lexer": "ipython3",
   "version": "3.8.10"
  }
 },
 "nbformat": 4,
 "nbformat_minor": 2
}
