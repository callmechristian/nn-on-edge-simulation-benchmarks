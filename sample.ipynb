{
 "cells": [
  {
   "cell_type": "code",
   "execution_count": 7,
   "metadata": {},
   "outputs": [],
   "source": [
    "from utils.SystemMonitor import SystemMonitor\n",
    "from utils.Table import Table\n",
    "import time\n",
    "\n",
    "monitor = SystemMonitor()"
   ]
  },
  {
   "cell_type": "markdown",
   "metadata": {},
   "source": [
    "Might want to drop notebook for sampling because of jupyter and kernel overhead"
   ]
  },
  {
   "cell_type": "code",
   "execution_count": null,
   "metadata": {},
   "outputs": [],
   "source": [
    "# ONLY RUN ONCE PER SAMPLE GROUP\n",
    "Table.create_empty_df(\"Samples1.csv\", [\"TimeStamp\", \"Name\", \"CPU_CORES\", \"CPU_CORES_LOG\", \"CPU_FREQ\", \"RAM_TOTAL_GB\", \"RAM_AV_GB\", \"RAM_USED_GB\", \"SWAP_TOTAL_GB\", \"SWAP_USED_GB\", \"CPU%\", \"RAM%\", \"RC\", \"WC\", \"RB\", \"WB\", \"dt\", \"PRED\"])"
   ]
  },
  {
   "cell_type": "markdown",
   "metadata": {},
   "source": [
    "# **ResNet50**"
   ]
  },
  {
   "cell_type": "code",
   "execution_count": 12,
   "metadata": {},
   "outputs": [
    {
     "name": "stdout",
     "output_type": "stream",
     "text": [
      "Monitoring started with an interval of 0.1 seconds.\n",
      "1/1 [==============================] - 1s 1s/step\n",
      "Monitoring stopped.\n",
      "['time.struct_time(tm_year=2023, tm_mon=10, tm_mday=27, tm_hour=12, tm_min=7, tm_sec=43, tm_wday=4, tm_yday=300, tm_isdst=0)', 'ResNet50', 'cpu_number_cores', 'cpu_number_cores_logical', 'cpu_frequency', 'ram_total', 'ram_available', 'ram_used', 'swap_total', 'swap_used', 'cpu_percent', 'memory_percent', 'read_count', 'write_count', 'read_bytes', 'write_bytes', 'disk_usage', 'total_time', 'True']\n"
     ]
    }
   ],
   "source": [
    "from models.SS_ResNet50 import SS_ResNet50\n",
    "ss_resnet50 = SS_ResNet50()\n",
    "\n",
    "monitor.start(interval=0.1)\n",
    "ss_resnet50.predict()\n",
    "monitor.stop()\n",
    "\n",
    "# monitor.compute_and_print_average()\n",
    "# print(\"\\nPrediction correct: \" + str(ss_resnet50.correct_result()))\n",
    "\n",
    "appendable = []\n",
    "appendable.append(str(time.strftime(\"%y:%m:%d:%H:%M:%S\", time.gmtime())))\n",
    "appendable.append(\"ResNet50\")\n",
    "\n",
    "keys = monitor.compute_and_return_average()\n",
    "\n",
    "for key in keys: # change to value not key\n",
    "    # appendable.append(keys[key])\n",
    "    appendable.append(key) # debug\n",
    "appendable.append(str(ss_resnet50.correct_result()))\n",
    "\n",
    "print(appendable)\n",
    "# Table.append_to_df()\n"
   ]
  }
 ],
 "metadata": {
  "kernelspec": {
   "display_name": "Python 3",
   "language": "python",
   "name": "python3"
  },
  "language_info": {
   "codemirror_mode": {
    "name": "ipython",
    "version": 3
   },
   "file_extension": ".py",
   "mimetype": "text/x-python",
   "name": "python",
   "nbconvert_exporter": "python",
   "pygments_lexer": "ipython3",
   "version": "3.8.10"
  }
 },
 "nbformat": 4,
 "nbformat_minor": 2
}
